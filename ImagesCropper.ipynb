{
  "nbformat": 4,
  "nbformat_minor": 0,
  "metadata": {
    "colab": {
      "provenance": [],
      "collapsed_sections": []
    },
    "kernelspec": {
      "name": "python3",
      "display_name": "Python 3"
    },
    "language_info": {
      "name": "python"
    }
  },
  "cells": [
    {
      "cell_type": "code",
      "source": [
        "!pip install beautifulsoup4\n",
        "!pip install lxml"
      ],
      "metadata": {
        "colab": {
          "base_uri": "https://localhost:8080/"
        },
        "id": "LjS4KFE9G2vp",
        "outputId": "5a9294f6-e310-4adb-ac08-6c5808a8d885"
      },
      "execution_count": 4,
      "outputs": [
        {
          "output_type": "stream",
          "name": "stdout",
          "text": [
            "Looking in indexes: https://pypi.org/simple, https://us-python.pkg.dev/colab-wheels/public/simple/\n",
            "Requirement already satisfied: beautifulsoup4 in /usr/local/lib/python3.7/dist-packages (4.6.3)\n",
            "Looking in indexes: https://pypi.org/simple, https://us-python.pkg.dev/colab-wheels/public/simple/\n",
            "Requirement already satisfied: lxml in /usr/local/lib/python3.7/dist-packages (4.9.1)\n"
          ]
        }
      ]
    },
    {
      "cell_type": "code",
      "source": [
        "from google.colab.patches import cv2_imshow\n",
        "import cv2\n",
        "from bs4 import BeautifulSoup\n",
        "from bs4 import BeautifulSoup \n",
        "import os.path\n",
        "from pathlib import Path\n",
        "from google.colab import files"
      ],
      "metadata": {
        "id": "yKj_7lXwFo9Z"
      },
      "execution_count": 69,
      "outputs": []
    },
    {
      "cell_type": "code",
      "source": [
        "def get_coordinates(image):\n",
        "\n",
        "  # Reading the data inside the xml file to a variable under the name data\n",
        "  with open(image + '.xml', 'r') as f:\n",
        "      data = f.read() \n",
        "\n",
        "  # Passing the stored data inside the beautifulsoup parser \n",
        "  bs_data = BeautifulSoup(data, 'xml') \n",
        "\n",
        "  # Using find() to extract attributes of the first instance of thees tags\n",
        "  b_xmin = int(str(bs_data.find('xmin').text)) \n",
        "  print(b_xmin) \n",
        "\n",
        "  b_xmax = int(str(bs_data.find('xmax').text)) \n",
        "  print(b_xmax) \n",
        "\n",
        "  b_ymin = int(str(bs_data.find('ymin').text)) \n",
        "  print(b_ymin) \n",
        "\n",
        "  b_ymax = int(str(bs_data.find('ymax').text)) \n",
        "  print(b_ymax) \n",
        "\n",
        "  return b_xmin, b_xmax, b_ymin, b_ymax"
      ],
      "metadata": {
        "id": "EOh_qiKxLUgz"
      },
      "execution_count": 55,
      "outputs": []
    },
    {
      "cell_type": "code",
      "source": [
        "for i in range(1, 51):\n",
        "  original_image = cv2.imread(\"/content/photo\" + str(i) + \".jpg\")\n",
        "  # cv2_imshow(original_image)\n",
        "\n",
        "  if(original_image is not None) :\n",
        "    b_xmin, b_xmax, b_ymin, b_ymax = get_coordinates(\"photo\" + str(i))\n",
        "    image = original_image[b_ymin:b_ymax, b_xmin:b_xmax]\n",
        "    cv2_imshow(image)\n",
        "    cv2.imwrite(\"/content/iLoveYou\" + str(i+54) + \"Detected.jpg\", image)"
      ],
      "metadata": {
        "id": "H4LsUXTOK29I"
      },
      "execution_count": null,
      "outputs": []
    },
    {
      "cell_type": "code",
      "source": [
        "for k in range(1, 11):\n",
        "  try:\n",
        "    files.download('photo'+str(k+54)+'Detected.jpg')\n",
        "  except:\n",
        "    print(\"Not Found\")\n",
        "\n",
        "# for k in range(11, 20):\n",
        "#   try:\n",
        "#     files.download('photo'+str(k+54)+'Detected.jpg')\n",
        "#   except:\n",
        "#     print(\"Not Found\")\n",
        "\n",
        "# for k in range(20, 30):\n",
        "  # try:\n",
        "  #   files.download('photo'+str(k+54)+'Detected.jpg')\n",
        "  # except:\n",
        "  #   print(\"Not Found\")\n",
        "\n",
        "# for k in range(30, 40):\n",
        "  # try:\n",
        "  #   files.download('photo'+str(k+54)+'Detected.jpg')\n",
        "  # except:\n",
        "  #   print(\"Not Found\")\n",
        "\n",
        "# for k in range(40, 51):\n",
        "  # try:\n",
        "  #   files.download('photo'+str(k+54)+'Detected.jpg')\n",
        "  # except:\n",
        "  #   print(\"Not Found\")"
      ],
      "metadata": {
        "id": "wDMG27FEO49z"
      },
      "execution_count": null,
      "outputs": []
    }
  ]
}