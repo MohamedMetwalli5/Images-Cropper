{
  "cells": [
    {
      "cell_type": "code",
      "execution_count": null,
      "metadata": {
        "colab": {
          "base_uri": "https://localhost:8080/"
        },
        "id": "LjS4KFE9G2vp",
        "outputId": "5a9294f6-e310-4adb-ac08-6c5808a8d885"
      },
      "outputs": [
        {
          "name": "stdout",
          "output_type": "stream",
          "text": [
            "Looking in indexes: https://pypi.org/simple, https://us-python.pkg.dev/colab-wheels/public/simple/\n",
            "Requirement already satisfied: beautifulsoup4 in /usr/local/lib/python3.7/dist-packages (4.6.3)\n",
            "Looking in indexes: https://pypi.org/simple, https://us-python.pkg.dev/colab-wheels/public/simple/\n",
            "Requirement already satisfied: lxml in /usr/local/lib/python3.7/dist-packages (4.9.1)\n"
          ]
        }
      ],
      "source": [
        "!pip install beautifulsoup4\n",
        "!pip install lxml"
      ]
    },
    {
      "cell_type": "code",
      "execution_count": null,
      "metadata": {
        "id": "yKj_7lXwFo9Z"
      },
      "outputs": [],
      "source": [
        "from google.colab.patches import cv2_imshow\n",
        "import cv2\n",
        "from bs4 import BeautifulSoup\n",
        "from google.colab import files"
      ]
    },
    {
      "cell_type": "code",
      "execution_count": null,
      "metadata": {
        "id": "EOh_qiKxLUgz"
      },
      "outputs": [],
      "source": [
        "def get_coordinates(image):\n",
        "\n",
        "  # Reading the data inside the xml file to a variable under the name data\n",
        "  with open(image + '.xml', 'r') as f:\n",
        "      data = f.read() \n",
        "\n",
        "  # Passing the stored data inside the beautifulsoup parser \n",
        "  bs_data = BeautifulSoup(data, 'xml') \n",
        "\n",
        "  # Using find() to extract attributes of the first instance of thees tags\n",
        "  b_xmin = int(str(bs_data.find('xmin').text)) \n",
        "  # print(b_xmin) \n",
        "\n",
        "  b_xmax = int(str(bs_data.find('xmax').text)) \n",
        "  # print(b_xmax) \n",
        "\n",
        "  b_ymin = int(str(bs_data.find('ymin').text)) \n",
        "  # print(b_ymin) \n",
        "\n",
        "  b_ymax = int(str(bs_data.find('ymax').text)) \n",
        "  # print(b_ymax) \n",
        "\n",
        "  return b_xmin, b_xmax, b_ymin, b_ymax"
      ]
    },
    {
      "cell_type": "code",
      "execution_count": 50,
      "metadata": {
        "id": "H4LsUXTOK29I"
      },
      "outputs": [],
      "source": [
        "start , end = 1 , 51 # You should choose it\n",
        "image_name = \"\" # You should set it\n",
        "\n",
        "for i in range(start, end):\n",
        "    original_image = cv2.imread(\"/content/\" + image_name + str(i) + \".jpg\")\n",
        "    # cv2_imshow(original_image)\n",
        "    if(original_image is not None):\n",
        "      b_xmin, b_xmax, b_ymin, b_ymax = get_coordinates(\"photo\" + str(i))\n",
        "      image = original_image[b_ymin:b_ymax, b_xmin:b_xmax]\n",
        "      cv2.imwrite(\"/content/\" + image_name + str(i) + \".jpg\", image)"
      ]
    },
    {
      "cell_type": "code",
      "execution_count": 51,
      "metadata": {
        "id": "kf9JNfIUKb80"
      },
      "outputs": [],
      "source": [
        "for k in range(start, end):\n",
        "  try:\n",
        "    files.download(image_name + str(k)+'.jpg')\n",
        "  except:\n",
        "    print(image_name + str(k) + \".jpg\" + \" is not found\")"
      ]
    }
  ],
  "metadata": {
    "colab": {
      "collapsed_sections": [],
      "provenance": []
    },
    "kernelspec": {
      "display_name": "Python 3",
      "name": "python3"
    },
    "language_info": {
      "name": "python"
    }
  },
  "nbformat": 4,
  "nbformat_minor": 0
}
